{
 "cells": [
  {
   "cell_type": "code",
   "execution_count": 145,
   "metadata": {},
   "outputs": [],
   "source": [
    "import uproot\n",
    "import awkward as ak\n",
    "import numpy as np\n",
    "import matplotlib.pyplot as plt\n",
    "import os\n",
    "from tqdm import tqdm\n",
    "from particle import Particle, InvalidParticle, ParticleNotFound"
   ]
  },
  {
   "cell_type": "markdown",
   "metadata": {},
   "source": [
    "# Initial FASERvSi studies\n",
    "\n",
    "Detector setup:\n",
    "132 layers of Tungsten and 'SCT' (sensitive vacuum)\n",
    "Tungsten layers are 0.9 mm thick\n",
    "Gap between Tungsten sheets is 0.5 mm\n",
    "1000 events generated - mix of $\\nu_e$, $\\nu_\\mu$ and $\\nu_\\tau$\n",
    "\n",
    "Real gap *should* be 7.08 mm but there seems to be an issue with the GENIE code which is preventing neutrinos from being generated in that setup"
   ]
  },
  {
   "cell_type": "code",
   "execution_count": 165,
   "metadata": {},
   "outputs": [],
   "source": [
    "data = uproot.open(\"../FASERvSi_baseline-build/output.root\")"
   ]
  },
  {
   "cell_type": "code",
   "execution_count": 200,
   "metadata": {},
   "outputs": [],
   "source": [
    "def _get_pos_and_energy(uproot_data, particle_type, event_number=None):\n",
    "    allowed_types = [\"ep\", \"em\", \"mm\",  \"mp\", \"hm\", \"hp\"]\n",
    "    if particle_type not in allowed_types:\n",
    "        raise ValueError(f\"particle_type must be one of these {allowed_types}\")\n",
    "\n",
    "    kin_suffixes = [\"x\", \"y\", \"z\", \"E\"]\n",
    "    \n",
    "    cut_expression = f\"{particle_type}_z >= 0\" \n",
    "    \n",
    "    kinematics = uproot_data.arrays([f\"{particle_type}_{k}\" for k in kin_suffixes], library=\"np\", cut=cut_expression)\n",
    "    \n",
    "    if event_number is None:\n",
    "        return {\"x\": kinematics[f\"{particle_type}_x\"], \"y\": kinematics[f\"{particle_type}_y\"], \"z\": kinematics[f\"{particle_type}_z\"], \"E\": kinematics[f\"{particle_type}_E\"]}\n",
    "    \n",
    "    return {\"x\": kinematics[f\"{particle_type}_x\"][event_number], \"y\": kinematics[f\"{particle_type}_y\"][event_number], \"z\": kinematics[f\"{particle_type}_z\"][event_number], \"E\": kinematics[f\"{particle_type}_E\"][event_number]}\n",
    "    "
   ]
  },
  {
   "cell_type": "code",
   "execution_count": 201,
   "metadata": {},
   "outputs": [],
   "source": [
    "def _get_name_from_pdgc(pdgc):\n",
    "    try:\n",
    "        particle = Particle.from_pdgid(pdgc)\n",
    "        \n",
    "        particle_name = particle.name\n",
    "        \n",
    "        if pdgc < 0 and \"+\" not in particle_name and \"-\" not in particle_name:\n",
    "            particle_name = f\"anti-{particle_name}\"\n",
    "        \n",
    "        return particle_name\n",
    "        \n",
    "    except InvalidParticle:\n",
    "        return f\"Unknown PDG Code: {pdgc}\"\n",
    "    except ParticleNotFound:\n",
    "        return f\"Particle not found: {pdgc}\""
   ]
  },
  {
   "cell_type": "code",
   "execution_count": 205,
   "metadata": {},
   "outputs": [],
   "source": [
    "def _get_charge_from_pdgc(pdgc):\n",
    "    try:\n",
    "        particle = Particle.from_pdgid(pdgc)\n",
    "        \n",
    "        particle_charge = particle.charge\n",
    "        \n",
    "        return particle_charge\n",
    "        \n",
    "    except InvalidParticle:\n",
    "        return f\"Unknown PDG Code: {pdgc}\"\n",
    "    except ParticleNotFound:\n",
    "        return f\"Particle not found: {pdgc}\""
   ]
  },
  {
   "cell_type": "code",
   "execution_count": 206,
   "metadata": {},
   "outputs": [],
   "source": [
    "def get_name_from_pdgc(pdgc):\n",
    "    result = []\n",
    "    try:\n",
    "        len(pdgc)\n",
    "        for p in pdgc:\n",
    "            result.append(_get_name_from_pdgc(p))\n",
    "    except TypeError:\n",
    "        return _get_name_from_pdgc(pdgc)\n",
    "\n",
    "    return np.array(result)"
   ]
  },
  {
   "cell_type": "code",
   "execution_count": 207,
   "metadata": {},
   "outputs": [],
   "source": [
    "def get_charge_from_pdgc(pdgc):\n",
    "    result = []\n",
    "    try:\n",
    "        len(pdgc)\n",
    "        for p in pdgc:\n",
    "            result.append(_get_charge_from_pdgc(p))\n",
    "    except TypeError:\n",
    "        return _get_name_from_pdgc(pdgc)\n",
    "    \n",
    "    return np.array(result)"
   ]
  },
  {
   "cell_type": "code",
   "execution_count": 204,
   "metadata": {},
   "outputs": [],
   "source": []
  },
  {
   "cell_type": "code",
   "execution_count": 166,
   "metadata": {},
   "outputs": [],
   "source": [
    "hits = [data[treename] for treename in data.keys()]"
   ]
  },
  {
   "cell_type": "code",
   "execution_count": 208,
   "metadata": {},
   "outputs": [
    {
     "name": "stdout",
     "output_type": "stream",
     "text": [
      "pdgc = 130.0            name = K(L)0            charge = K(L)0\n",
      "pdgc = 11.0             name = e-               charge = e-\n",
      "pdgc = 12.0             name = nu(e)            charge = nu(e)\n",
      "pdgc = 13.0             name = mu-              charge = mu-\n",
      "pdgc = 14.0             name = nu(mu)           charge = nu(mu)\n",
      "pdgc = 16.0             name = nu(tau)          charge = nu(tau)\n",
      "pdgc = 22.0             name = gamma            charge = gamma\n",
      "pdgc = 4122.0           name = Lambda(c)+       charge = Lambda(c)+\n",
      "pdgc = 2212.0           name = p                charge = p\n",
      "pdgc = 1000010020.0     name = D2               charge = D2\n",
      "pdgc = 3112.0           name = Sigma-           charge = Sigma-\n",
      "pdgc = -211.0           name = pi-              charge = pi-\n",
      "pdgc = 1000010030.0     name = T3               charge = T3\n",
      "pdgc = 3122.0           name = Lambda           charge = Lambda\n",
      "pdgc = 310.0            name = K(S)0            charge = K(S)0\n",
      "pdgc = -321.0           name = K-               charge = K-\n",
      "pdgc = 2112.0           name = n                charge = n\n",
      "pdgc = 321.0            name = K+               charge = K+\n",
      "pdgc = -2112.0          name = anti-n~          charge = anti-n~\n",
      "pdgc = 1000020040.0     name = He4              charge = He4\n",
      "pdgc = -3122.0          name = anti-Lambda~     charge = anti-Lambda~\n",
      "pdgc = 211.0            name = pi+              charge = pi+\n",
      "pdgc = -2212.0          name = anti-p~          charge = anti-p~\n",
      "pdgc = -3222.0          name = Sigma~-          charge = Sigma~-\n",
      "pdgc = -16.0            name = anti-nu(tau)~    charge = anti-nu(tau)~\n",
      "pdgc = -14.0            name = anti-nu(mu)~     charge = anti-nu(mu)~\n",
      "pdgc = -13.0            name = mu+              charge = mu+\n",
      "pdgc = -12.0            name = anti-nu(e)~      charge = anti-nu(e)~\n",
      "pdgc = -11.0            name = e+               charge = e+\n",
      "pdgc = 3322.0           name = Xi0              charge = Xi0\n"
     ]
    }
   ],
   "source": [
    "pdgc = hits[-1].arrays(\"pdgc\", library=\"np\")[\"pdgc\"]\n",
    "\n",
    "pdgc = set(pdgc)\n",
    "\n",
    "for p in pdgc:\n",
    "    print(f\"pdgc = {p:<13}    name = {get_name_from_pdgc(p):<13}    charge = {get_charge_from_pdgc(p)}\")"
   ]
  },
  {
   "cell_type": "code",
   "execution_count": 150,
   "metadata": {},
   "outputs": [],
   "source": [
    "def scatter_on_ax(ax, event_data, x_var, y_var, label, color,  alpha=1, marker_size=1):\n",
    "    \n",
    "    if len(event_data[x_var]) == 0:\n",
    "        return None\n",
    "    \n",
    "    ax.scatter(event_data[x_var], event_data[y_var], color=color, marker=\",\", label=label, alpha=alpha, s=marker_size)"
   ]
  },
  {
   "cell_type": "code",
   "execution_count": 167,
   "metadata": {},
   "outputs": [
    {
     "name": "stdout",
     "output_type": "stream",
     "text": [
      "[ 0  3  9 10 10 10 10 14 14 14 14 15 17 18 20 22 26 26 26 26 26 30 33 33\n",
      " 33 33 35 35 39 39 42 45 45 45 47 47 47 47 47 47 49 51 55 55 57 57 59 59\n",
      " 60 61 65 66 69 71 73 75 80 81 81 81 81 81 81 85 85 85 85 85 85 85 88 88\n",
      " 88 90 94 96]\n"
     ]
    }
   ],
   "source": [
    "event_numbers = hits[0].arrays(\"fEvent\", library=\"np\")[\"fEvent\"]\n",
    "\n",
    "print(event_numbers)"
   ]
  },
  {
   "cell_type": "code",
   "execution_count": 217,
   "metadata": {},
   "outputs": [
    {
     "name": "stderr",
     "output_type": "stream",
     "text": [
      "  0%|          | 0/50 [00:00<?, ?it/s]"
     ]
    },
    {
     "name": "stderr",
     "output_type": "stream",
     "text": [
      " 20%|██        | 10/50 [00:29<01:57,  2.93s/it]\n"
     ]
    },
    {
     "ename": "KeyboardInterrupt",
     "evalue": "",
     "output_type": "error",
     "traceback": [
      "\u001b[0;31m---------------------------------------------------------------------------\u001b[0m",
      "\u001b[0;31mKeyboardInterrupt\u001b[0m                         Traceback (most recent call last)",
      "Cell \u001b[0;32mIn[217], line 12\u001b[0m\n\u001b[1;32m      9\u001b[0m marker_size \u001b[38;5;241m=\u001b[39m \u001b[38;5;241m1\u001b[39m\n\u001b[1;32m     10\u001b[0m alpha \u001b[38;5;241m=\u001b[39m \u001b[38;5;241m1\u001b[39m\n\u001b[0;32m---> 12\u001b[0m electrons \u001b[38;5;241m=\u001b[39m kinematics[np\u001b[38;5;241m.\u001b[39mwhere(\u001b[43mnp\u001b[49m\u001b[38;5;241;43m.\u001b[39;49m\u001b[43mabs\u001b[49m\u001b[43m(\u001b[49m\u001b[43mkinematics\u001b[49m\u001b[43m[\u001b[49m\u001b[38;5;124;43m'\u001b[39;49m\u001b[38;5;124;43mpdgc\u001b[39;49m\u001b[38;5;124;43m'\u001b[39;49m\u001b[43m]\u001b[49m\u001b[43m)\u001b[49m \u001b[38;5;241m==\u001b[39m \u001b[38;5;241m11\u001b[39m)]\n\u001b[1;32m     13\u001b[0m muons \u001b[38;5;241m=\u001b[39m kinematics[np\u001b[38;5;241m.\u001b[39mwhere(np\u001b[38;5;241m.\u001b[39mabs(kinematics[\u001b[38;5;124m'\u001b[39m\u001b[38;5;124mpdgc\u001b[39m\u001b[38;5;124m'\u001b[39m]) \u001b[38;5;241m==\u001b[39m \u001b[38;5;241m13\u001b[39m)]\n\u001b[1;32m     14\u001b[0m taus \u001b[38;5;241m=\u001b[39m kinematics[np\u001b[38;5;241m.\u001b[39mwhere(np\u001b[38;5;241m.\u001b[39mabs(kinematics[\u001b[38;5;124m'\u001b[39m\u001b[38;5;124mpdgc\u001b[39m\u001b[38;5;124m'\u001b[39m]) \u001b[38;5;241m==\u001b[39m \u001b[38;5;241m15\u001b[39m)]\n",
      "File \u001b[0;32m~/miniforge3/envs/FASERSim/lib/python3.10/site-packages/awkward/highlevel.py:1511\u001b[0m, in \u001b[0;36mArray.__array_ufunc__\u001b[0;34m(self, ufunc, method, *inputs, **kwargs)\u001b[0m\n\u001b[1;32m   1509\u001b[0m name \u001b[38;5;241m=\u001b[39m \u001b[38;5;124mf\u001b[39m\u001b[38;5;124m\"\u001b[39m\u001b[38;5;132;01m{\u001b[39;00m\u001b[38;5;28mtype\u001b[39m(ufunc)\u001b[38;5;241m.\u001b[39m\u001b[38;5;18m__module__\u001b[39m\u001b[38;5;132;01m}\u001b[39;00m\u001b[38;5;124m.\u001b[39m\u001b[38;5;132;01m{\u001b[39;00mufunc\u001b[38;5;241m.\u001b[39m\u001b[38;5;18m__name__\u001b[39m\u001b[38;5;132;01m}\u001b[39;00m\u001b[38;5;124m.\u001b[39m\u001b[38;5;132;01m{\u001b[39;00mmethod\u001b[38;5;132;01m!s}\u001b[39;00m\u001b[38;5;124m\"\u001b[39m\n\u001b[1;32m   1510\u001b[0m \u001b[38;5;28;01mwith\u001b[39;00m ak\u001b[38;5;241m.\u001b[39m_errors\u001b[38;5;241m.\u001b[39mOperationErrorContext(name, inputs, kwargs):\n\u001b[0;32m-> 1511\u001b[0m     \u001b[38;5;28;01mreturn\u001b[39;00m \u001b[43mak\u001b[49m\u001b[38;5;241;43m.\u001b[39;49m\u001b[43m_connect\u001b[49m\u001b[38;5;241;43m.\u001b[39;49m\u001b[43mnumpy\u001b[49m\u001b[38;5;241;43m.\u001b[39;49m\u001b[43marray_ufunc\u001b[49m\u001b[43m(\u001b[49m\u001b[43mufunc\u001b[49m\u001b[43m,\u001b[49m\u001b[43m \u001b[49m\u001b[43mmethod\u001b[49m\u001b[43m,\u001b[49m\u001b[43m \u001b[49m\u001b[43minputs\u001b[49m\u001b[43m,\u001b[49m\u001b[43m \u001b[49m\u001b[43mkwargs\u001b[49m\u001b[43m)\u001b[49m\n",
      "File \u001b[0;32m~/miniforge3/envs/FASERSim/lib/python3.10/site-packages/awkward/_connect/numpy.py:466\u001b[0m, in \u001b[0;36marray_ufunc\u001b[0;34m(ufunc, method, inputs, kwargs)\u001b[0m\n\u001b[1;32m    458\u001b[0m         \u001b[38;5;28;01mraise\u001b[39;00m \u001b[38;5;167;01mTypeError\u001b[39;00m(\n\u001b[1;32m    459\u001b[0m             \u001b[38;5;124m\"\u001b[39m\u001b[38;5;124mno \u001b[39m\u001b[38;5;132;01m{}\u001b[39;00m\u001b[38;5;124m.\u001b[39m\u001b[38;5;132;01m{}\u001b[39;00m\u001b[38;5;124m overloads for custom types: \u001b[39m\u001b[38;5;132;01m{}\u001b[39;00m\u001b[38;5;124m\"\u001b[39m\u001b[38;5;241m.\u001b[39mformat(\n\u001b[1;32m    460\u001b[0m                 \u001b[38;5;28mtype\u001b[39m(ufunc)\u001b[38;5;241m.\u001b[39m\u001b[38;5;18m__module__\u001b[39m, ufunc\u001b[38;5;241m.\u001b[39m\u001b[38;5;18m__name__\u001b[39m, \u001b[38;5;124m\"\u001b[39m\u001b[38;5;124m, \u001b[39m\u001b[38;5;124m\"\u001b[39m\u001b[38;5;241m.\u001b[39mjoin(error_message)\n\u001b[1;32m    461\u001b[0m             )\n\u001b[1;32m    462\u001b[0m         )\n\u001b[1;32m    464\u001b[0m     \u001b[38;5;28;01mreturn\u001b[39;00m \u001b[38;5;28;01mNone\u001b[39;00m\n\u001b[0;32m--> 466\u001b[0m out \u001b[38;5;241m=\u001b[39m \u001b[43mak\u001b[49m\u001b[38;5;241;43m.\u001b[39;49m\u001b[43m_broadcasting\u001b[49m\u001b[38;5;241;43m.\u001b[39;49m\u001b[43mbroadcast_and_apply\u001b[49m\u001b[43m(\u001b[49m\n\u001b[1;32m    467\u001b[0m \u001b[43m    \u001b[49m\u001b[43minputs\u001b[49m\u001b[43m,\u001b[49m\u001b[43m \u001b[49m\u001b[43maction\u001b[49m\u001b[43m,\u001b[49m\u001b[43m \u001b[49m\u001b[43mallow_records\u001b[49m\u001b[38;5;241;43m=\u001b[39;49m\u001b[38;5;28;43;01mFalse\u001b[39;49;00m\u001b[43m,\u001b[49m\u001b[43m \u001b[49m\u001b[43mfunction_name\u001b[49m\u001b[38;5;241;43m=\u001b[39;49m\u001b[43mufunc\u001b[49m\u001b[38;5;241;43m.\u001b[39;49m\u001b[38;5;18;43m__name__\u001b[39;49m\n\u001b[1;32m    468\u001b[0m \u001b[43m\u001b[49m\u001b[43m)\u001b[49m\n\u001b[1;32m    470\u001b[0m \u001b[38;5;28;01mif\u001b[39;00m \u001b[38;5;28mlen\u001b[39m(out) \u001b[38;5;241m==\u001b[39m \u001b[38;5;241m1\u001b[39m:\n\u001b[1;32m    471\u001b[0m     \u001b[38;5;28;01mreturn\u001b[39;00m wrap_layout(out[\u001b[38;5;241m0\u001b[39m], behavior\u001b[38;5;241m=\u001b[39mbehavior, attrs\u001b[38;5;241m=\u001b[39mattrs)\n",
      "File \u001b[0;32m~/miniforge3/envs/FASERSim/lib/python3.10/site-packages/awkward/_broadcasting.py:1108\u001b[0m, in \u001b[0;36mbroadcast_and_apply\u001b[0;34m(inputs, action, depth_context, lateral_context, allow_records, left_broadcast, right_broadcast, numpy_to_regular, regular_to_jagged, function_name, broadcast_parameters_rule)\u001b[0m\n\u001b[1;32m   1106\u001b[0m backend \u001b[38;5;241m=\u001b[39m backend_of(\u001b[38;5;241m*\u001b[39minputs, coerce_to_common\u001b[38;5;241m=\u001b[39m\u001b[38;5;28;01mFalse\u001b[39;00m)\n\u001b[1;32m   1107\u001b[0m isscalar \u001b[38;5;241m=\u001b[39m []\n\u001b[0;32m-> 1108\u001b[0m out \u001b[38;5;241m=\u001b[39m \u001b[43mapply_step\u001b[49m\u001b[43m(\u001b[49m\n\u001b[1;32m   1109\u001b[0m \u001b[43m    \u001b[49m\u001b[43mbackend\u001b[49m\u001b[43m,\u001b[49m\n\u001b[1;32m   1110\u001b[0m \u001b[43m    \u001b[49m\u001b[43mbroadcast_pack\u001b[49m\u001b[43m(\u001b[49m\u001b[43minputs\u001b[49m\u001b[43m,\u001b[49m\u001b[43m \u001b[49m\u001b[43misscalar\u001b[49m\u001b[43m)\u001b[49m\u001b[43m,\u001b[49m\n\u001b[1;32m   1111\u001b[0m \u001b[43m    \u001b[49m\u001b[43maction\u001b[49m\u001b[43m,\u001b[49m\n\u001b[1;32m   1112\u001b[0m \u001b[43m    \u001b[49m\u001b[38;5;241;43m0\u001b[39;49m\u001b[43m,\u001b[49m\n\u001b[1;32m   1113\u001b[0m \u001b[43m    \u001b[49m\u001b[43mdepth_context\u001b[49m\u001b[43m,\u001b[49m\n\u001b[1;32m   1114\u001b[0m \u001b[43m    \u001b[49m\u001b[43mlateral_context\u001b[49m\u001b[43m,\u001b[49m\n\u001b[1;32m   1115\u001b[0m \u001b[43m    \u001b[49m\u001b[43m{\u001b[49m\n\u001b[1;32m   1116\u001b[0m \u001b[43m        \u001b[49m\u001b[38;5;124;43m\"\u001b[39;49m\u001b[38;5;124;43mallow_records\u001b[39;49m\u001b[38;5;124;43m\"\u001b[39;49m\u001b[43m:\u001b[49m\u001b[43m \u001b[49m\u001b[43mallow_records\u001b[49m\u001b[43m,\u001b[49m\n\u001b[1;32m   1117\u001b[0m \u001b[43m        \u001b[49m\u001b[38;5;124;43m\"\u001b[39;49m\u001b[38;5;124;43mleft_broadcast\u001b[39;49m\u001b[38;5;124;43m\"\u001b[39;49m\u001b[43m:\u001b[49m\u001b[43m \u001b[49m\u001b[43mleft_broadcast\u001b[49m\u001b[43m,\u001b[49m\n\u001b[1;32m   1118\u001b[0m \u001b[43m        \u001b[49m\u001b[38;5;124;43m\"\u001b[39;49m\u001b[38;5;124;43mright_broadcast\u001b[39;49m\u001b[38;5;124;43m\"\u001b[39;49m\u001b[43m:\u001b[49m\u001b[43m \u001b[49m\u001b[43mright_broadcast\u001b[49m\u001b[43m,\u001b[49m\n\u001b[1;32m   1119\u001b[0m \u001b[43m        \u001b[49m\u001b[38;5;124;43m\"\u001b[39;49m\u001b[38;5;124;43mnumpy_to_regular\u001b[39;49m\u001b[38;5;124;43m\"\u001b[39;49m\u001b[43m:\u001b[49m\u001b[43m \u001b[49m\u001b[43mnumpy_to_regular\u001b[49m\u001b[43m,\u001b[49m\n\u001b[1;32m   1120\u001b[0m \u001b[43m        \u001b[49m\u001b[38;5;124;43m\"\u001b[39;49m\u001b[38;5;124;43mregular_to_jagged\u001b[39;49m\u001b[38;5;124;43m\"\u001b[39;49m\u001b[43m:\u001b[49m\u001b[43m \u001b[49m\u001b[43mregular_to_jagged\u001b[49m\u001b[43m,\u001b[49m\n\u001b[1;32m   1121\u001b[0m \u001b[43m        \u001b[49m\u001b[38;5;124;43m\"\u001b[39;49m\u001b[38;5;124;43mfunction_name\u001b[39;49m\u001b[38;5;124;43m\"\u001b[39;49m\u001b[43m:\u001b[49m\u001b[43m \u001b[49m\u001b[43mfunction_name\u001b[49m\u001b[43m,\u001b[49m\n\u001b[1;32m   1122\u001b[0m \u001b[43m        \u001b[49m\u001b[38;5;124;43m\"\u001b[39;49m\u001b[38;5;124;43mbroadcast_parameters_rule\u001b[39;49m\u001b[38;5;124;43m\"\u001b[39;49m\u001b[43m:\u001b[49m\u001b[43m \u001b[49m\u001b[43mbroadcast_parameters_rule\u001b[49m\u001b[43m,\u001b[49m\n\u001b[1;32m   1123\u001b[0m \u001b[43m    \u001b[49m\u001b[43m}\u001b[49m\u001b[43m,\u001b[49m\n\u001b[1;32m   1124\u001b[0m \u001b[43m\u001b[49m\u001b[43m)\u001b[49m\n\u001b[1;32m   1125\u001b[0m \u001b[38;5;28;01massert\u001b[39;00m \u001b[38;5;28misinstance\u001b[39m(out, \u001b[38;5;28mtuple\u001b[39m)\n\u001b[1;32m   1126\u001b[0m \u001b[38;5;28;01mreturn\u001b[39;00m \u001b[38;5;28mtuple\u001b[39m(broadcast_unpack(x, isscalar) \u001b[38;5;28;01mfor\u001b[39;00m x \u001b[38;5;129;01min\u001b[39;00m out)\n",
      "File \u001b[0;32m~/miniforge3/envs/FASERSim/lib/python3.10/site-packages/awkward/_broadcasting.py:1086\u001b[0m, in \u001b[0;36mapply_step\u001b[0;34m(backend, inputs, action, depth, depth_context, lateral_context, options)\u001b[0m\n\u001b[1;32m   1084\u001b[0m     \u001b[38;5;28;01mreturn\u001b[39;00m result\n\u001b[1;32m   1085\u001b[0m \u001b[38;5;28;01melif\u001b[39;00m result \u001b[38;5;129;01mis\u001b[39;00m \u001b[38;5;28;01mNone\u001b[39;00m:\n\u001b[0;32m-> 1086\u001b[0m     \u001b[38;5;28;01mreturn\u001b[39;00m \u001b[43mcontinuation\u001b[49m\u001b[43m(\u001b[49m\u001b[43m)\u001b[49m\n\u001b[1;32m   1087\u001b[0m \u001b[38;5;28;01melse\u001b[39;00m:\n\u001b[1;32m   1088\u001b[0m     \u001b[38;5;28;01mraise\u001b[39;00m \u001b[38;5;167;01mAssertionError\u001b[39;00m(result)\n",
      "File \u001b[0;32m~/miniforge3/envs/FASERSim/lib/python3.10/site-packages/awkward/_broadcasting.py:1055\u001b[0m, in \u001b[0;36mapply_step.<locals>.continuation\u001b[0;34m()\u001b[0m\n\u001b[1;32m   1053\u001b[0m \u001b[38;5;66;03m# Any non-string list-types?\u001b[39;00m\n\u001b[1;32m   1054\u001b[0m \u001b[38;5;28;01melif\u001b[39;00m \u001b[38;5;28many\u001b[39m(x\u001b[38;5;241m.\u001b[39mis_list \u001b[38;5;129;01mand\u001b[39;00m \u001b[38;5;129;01mnot\u001b[39;00m is_string_like(x) \u001b[38;5;28;01mfor\u001b[39;00m x \u001b[38;5;129;01min\u001b[39;00m contents):\n\u001b[0;32m-> 1055\u001b[0m     \u001b[38;5;28;01mreturn\u001b[39;00m \u001b[43mbroadcast_any_list\u001b[49m\u001b[43m(\u001b[49m\u001b[43m)\u001b[49m\n\u001b[1;32m   1057\u001b[0m \u001b[38;5;66;03m# Any RecordArrays?\u001b[39;00m\n\u001b[1;32m   1058\u001b[0m \u001b[38;5;28;01melif\u001b[39;00m \u001b[38;5;28many\u001b[39m(x\u001b[38;5;241m.\u001b[39mis_record \u001b[38;5;28;01mfor\u001b[39;00m x \u001b[38;5;129;01min\u001b[39;00m contents):\n",
      "File \u001b[0;32m~/miniforge3/envs/FASERSim/lib/python3.10/site-packages/awkward/_broadcasting.py:623\u001b[0m, in \u001b[0;36mapply_step.<locals>.broadcast_any_list\u001b[0;34m()\u001b[0m\n\u001b[1;32m    620\u001b[0m         nextinputs\u001b[38;5;241m.\u001b[39mappend(x)\n\u001b[1;32m    621\u001b[0m         nextparameters\u001b[38;5;241m.\u001b[39mappend(NO_PARAMETERS)\n\u001b[0;32m--> 623\u001b[0m outcontent \u001b[38;5;241m=\u001b[39m \u001b[43mapply_step\u001b[49m\u001b[43m(\u001b[49m\n\u001b[1;32m    624\u001b[0m \u001b[43m    \u001b[49m\u001b[43mbackend\u001b[49m\u001b[43m,\u001b[49m\n\u001b[1;32m    625\u001b[0m \u001b[43m    \u001b[49m\u001b[43mnextinputs\u001b[49m\u001b[43m,\u001b[49m\n\u001b[1;32m    626\u001b[0m \u001b[43m    \u001b[49m\u001b[43maction\u001b[49m\u001b[43m,\u001b[49m\n\u001b[1;32m    627\u001b[0m \u001b[43m    \u001b[49m\u001b[43mdepth\u001b[49m\u001b[43m \u001b[49m\u001b[38;5;241;43m+\u001b[39;49m\u001b[43m \u001b[49m\u001b[38;5;241;43m1\u001b[39;49m\u001b[43m,\u001b[49m\n\u001b[1;32m    628\u001b[0m \u001b[43m    \u001b[49m\u001b[43mcopy\u001b[49m\u001b[38;5;241;43m.\u001b[39;49m\u001b[43mcopy\u001b[49m\u001b[43m(\u001b[49m\u001b[43mdepth_context\u001b[49m\u001b[43m)\u001b[49m\u001b[43m,\u001b[49m\n\u001b[1;32m    629\u001b[0m \u001b[43m    \u001b[49m\u001b[43mlateral_context\u001b[49m\u001b[43m,\u001b[49m\n\u001b[1;32m    630\u001b[0m \u001b[43m    \u001b[49m\u001b[43moptions\u001b[49m\u001b[43m,\u001b[49m\n\u001b[1;32m    631\u001b[0m \u001b[43m\u001b[49m\u001b[43m)\u001b[49m\n\u001b[1;32m    632\u001b[0m \u001b[38;5;28;01massert\u001b[39;00m \u001b[38;5;28misinstance\u001b[39m(outcontent, \u001b[38;5;28mtuple\u001b[39m)\n\u001b[1;32m    633\u001b[0m parameters \u001b[38;5;241m=\u001b[39m parameters_factory(nextparameters, \u001b[38;5;28mlen\u001b[39m(outcontent))\n",
      "File \u001b[0;32m~/miniforge3/envs/FASERSim/lib/python3.10/site-packages/awkward/_broadcasting.py:1068\u001b[0m, in \u001b[0;36mapply_step\u001b[0;34m(backend, inputs, action, depth, depth_context, lateral_context, options)\u001b[0m\n\u001b[1;32m   1061\u001b[0m     \u001b[38;5;28;01melse\u001b[39;00m:\n\u001b[1;32m   1062\u001b[0m         \u001b[38;5;28;01mraise\u001b[39;00m \u001b[38;5;167;01mValueError\u001b[39;00m(\n\u001b[1;32m   1063\u001b[0m             \u001b[38;5;124m\"\u001b[39m\u001b[38;5;124mcannot broadcast: \u001b[39m\u001b[38;5;132;01m{}\u001b[39;00m\u001b[38;5;132;01m{}\u001b[39;00m\u001b[38;5;124m\"\u001b[39m\u001b[38;5;241m.\u001b[39mformat(\n\u001b[1;32m   1064\u001b[0m                 \u001b[38;5;124m\"\u001b[39m\u001b[38;5;124m, \u001b[39m\u001b[38;5;124m\"\u001b[39m\u001b[38;5;241m.\u001b[39mjoin(\u001b[38;5;28mrepr\u001b[39m(\u001b[38;5;28mtype\u001b[39m(x)) \u001b[38;5;28;01mfor\u001b[39;00m x \u001b[38;5;129;01min\u001b[39;00m inputs), in_function(options)\n\u001b[1;32m   1065\u001b[0m             )\n\u001b[1;32m   1066\u001b[0m         )\n\u001b[0;32m-> 1068\u001b[0m result \u001b[38;5;241m=\u001b[39m \u001b[43maction\u001b[49m\u001b[43m(\u001b[49m\n\u001b[1;32m   1069\u001b[0m \u001b[43m    \u001b[49m\u001b[43minputs\u001b[49m\u001b[43m,\u001b[49m\n\u001b[1;32m   1070\u001b[0m \u001b[43m    \u001b[49m\u001b[43mdepth\u001b[49m\u001b[38;5;241;43m=\u001b[39;49m\u001b[43mdepth\u001b[49m\u001b[43m,\u001b[49m\n\u001b[1;32m   1071\u001b[0m \u001b[43m    \u001b[49m\u001b[43mdepth_context\u001b[49m\u001b[38;5;241;43m=\u001b[39;49m\u001b[43mdepth_context\u001b[49m\u001b[43m,\u001b[49m\n\u001b[1;32m   1072\u001b[0m \u001b[43m    \u001b[49m\u001b[43mlateral_context\u001b[49m\u001b[38;5;241;43m=\u001b[39;49m\u001b[43mlateral_context\u001b[49m\u001b[43m,\u001b[49m\n\u001b[1;32m   1073\u001b[0m \u001b[43m    \u001b[49m\u001b[43mcontinuation\u001b[49m\u001b[38;5;241;43m=\u001b[39;49m\u001b[43mcontinuation\u001b[49m\u001b[43m,\u001b[49m\n\u001b[1;32m   1074\u001b[0m \u001b[43m    \u001b[49m\u001b[43mbackend\u001b[49m\u001b[38;5;241;43m=\u001b[39;49m\u001b[43mbackend\u001b[49m\u001b[43m,\u001b[49m\n\u001b[1;32m   1075\u001b[0m \u001b[43m    \u001b[49m\u001b[43moptions\u001b[49m\u001b[38;5;241;43m=\u001b[39;49m\u001b[43moptions\u001b[49m\u001b[43m,\u001b[49m\n\u001b[1;32m   1076\u001b[0m \u001b[43m\u001b[49m\u001b[43m)\u001b[49m\n\u001b[1;32m   1078\u001b[0m \u001b[38;5;28;01mif\u001b[39;00m \u001b[38;5;28misinstance\u001b[39m(result, \u001b[38;5;28mtuple\u001b[39m) \u001b[38;5;129;01mand\u001b[39;00m \u001b[38;5;28mall\u001b[39m(\u001b[38;5;28misinstance\u001b[39m(x, Content) \u001b[38;5;28;01mfor\u001b[39;00m x \u001b[38;5;129;01min\u001b[39;00m result):\n\u001b[1;32m   1079\u001b[0m     \u001b[38;5;28;01mif\u001b[39;00m \u001b[38;5;28many\u001b[39m(content\u001b[38;5;241m.\u001b[39mbackend \u001b[38;5;129;01mis\u001b[39;00m \u001b[38;5;129;01mnot\u001b[39;00m backend \u001b[38;5;28;01mfor\u001b[39;00m content \u001b[38;5;129;01min\u001b[39;00m result):\n",
      "File \u001b[0;32m~/miniforge3/envs/FASERSim/lib/python3.10/site-packages/awkward/_connect/numpy.py:432\u001b[0m, in \u001b[0;36marray_ufunc.<locals>.action\u001b[0;34m(inputs, **ignore)\u001b[0m\n\u001b[1;32m    427\u001b[0m parameters \u001b[38;5;241m=\u001b[39m functools\u001b[38;5;241m.\u001b[39mreduce(\n\u001b[1;32m    428\u001b[0m     parameters_intersect, (c\u001b[38;5;241m.\u001b[39m_parameters \u001b[38;5;28;01mfor\u001b[39;00m c \u001b[38;5;129;01min\u001b[39;00m contents)\n\u001b[1;32m    429\u001b[0m )\n\u001b[1;32m    431\u001b[0m input_args \u001b[38;5;241m=\u001b[39m [x\u001b[38;5;241m.\u001b[39mdata \u001b[38;5;28;01mif\u001b[39;00m \u001b[38;5;28misinstance\u001b[39m(x, NumpyArray) \u001b[38;5;28;01melse\u001b[39;00m x \u001b[38;5;28;01mfor\u001b[39;00m x \u001b[38;5;129;01min\u001b[39;00m inputs]\n\u001b[0;32m--> 432\u001b[0m result \u001b[38;5;241m=\u001b[39m \u001b[43mbackend\u001b[49m\u001b[38;5;241;43m.\u001b[39;49m\u001b[43mnplike\u001b[49m\u001b[38;5;241;43m.\u001b[39;49m\u001b[43mapply_ufunc\u001b[49m\u001b[43m(\u001b[49m\u001b[43mufunc\u001b[49m\u001b[43m,\u001b[49m\u001b[43m \u001b[49m\u001b[43mmethod\u001b[49m\u001b[43m,\u001b[49m\u001b[43m \u001b[49m\u001b[43minput_args\u001b[49m\u001b[43m,\u001b[49m\u001b[43m \u001b[49m\u001b[43mkwargs\u001b[49m\u001b[43m)\u001b[49m\n\u001b[1;32m    434\u001b[0m \u001b[38;5;28;01mif\u001b[39;00m \u001b[38;5;28misinstance\u001b[39m(result, \u001b[38;5;28mtuple\u001b[39m):\n\u001b[1;32m    435\u001b[0m     \u001b[38;5;28;01mreturn\u001b[39;00m \u001b[38;5;28mtuple\u001b[39m(\n\u001b[1;32m    436\u001b[0m         NumpyArray(x, backend\u001b[38;5;241m=\u001b[39mbackend, parameters\u001b[38;5;241m=\u001b[39mparameters)\n\u001b[1;32m    437\u001b[0m         \u001b[38;5;28;01mfor\u001b[39;00m x \u001b[38;5;129;01min\u001b[39;00m result\n\u001b[1;32m    438\u001b[0m     )\n",
      "File \u001b[0;32m~/miniforge3/envs/FASERSim/lib/python3.10/site-packages/awkward/_nplikes/array_module.py:211\u001b[0m, in \u001b[0;36mArrayModuleNumpyLike.apply_ufunc\u001b[0;34m(self, ufunc, method, args, kwargs)\u001b[0m\n\u001b[1;32m    208\u001b[0m     \u001b[38;5;28;01mraise\u001b[39;00m \u001b[38;5;167;01mNotImplementedError\u001b[39;00m\n\u001b[1;32m    210\u001b[0m \u001b[38;5;28;01mif\u001b[39;00m \u001b[38;5;28mhasattr\u001b[39m(ufunc, \u001b[38;5;124m\"\u001b[39m\u001b[38;5;124mresolve_dtypes\u001b[39m\u001b[38;5;124m\"\u001b[39m):\n\u001b[0;32m--> 211\u001b[0m     \u001b[38;5;28;01mreturn\u001b[39;00m \u001b[38;5;28;43mself\u001b[39;49m\u001b[38;5;241;43m.\u001b[39;49m\u001b[43m_apply_ufunc_nep_50\u001b[49m\u001b[43m(\u001b[49m\u001b[43mufunc\u001b[49m\u001b[43m,\u001b[49m\u001b[43m \u001b[49m\u001b[43mmethod\u001b[49m\u001b[43m,\u001b[49m\u001b[43m \u001b[49m\u001b[43margs\u001b[49m\u001b[43m,\u001b[49m\u001b[43m \u001b[49m\u001b[43mkwargs\u001b[49m\u001b[43m)\u001b[49m\n\u001b[1;32m    212\u001b[0m \u001b[38;5;28;01melse\u001b[39;00m:\n\u001b[1;32m    213\u001b[0m     \u001b[38;5;28;01mreturn\u001b[39;00m \u001b[38;5;28mself\u001b[39m\u001b[38;5;241m.\u001b[39m_apply_ufunc_legacy(ufunc, method, args, kwargs)\n",
      "File \u001b[0;32m~/miniforge3/envs/FASERSim/lib/python3.10/site-packages/awkward/_nplikes/array_module.py:245\u001b[0m, in \u001b[0;36mArrayModuleNumpyLike._apply_ufunc_nep_50\u001b[0;34m(self, ufunc, method, args, kwargs)\u001b[0m\n\u001b[1;32m    240\u001b[0m resolved_args \u001b[38;5;241m=\u001b[39m [\n\u001b[1;32m    241\u001b[0m     cast(\u001b[38;5;124m\"\u001b[39m\u001b[38;5;124mArrayLikeT\u001b[39m\u001b[38;5;124m\"\u001b[39m, \u001b[38;5;28mself\u001b[39m\u001b[38;5;241m.\u001b[39masarray(arg, dtype\u001b[38;5;241m=\u001b[39mdtype))\n\u001b[1;32m    242\u001b[0m     \u001b[38;5;28;01mfor\u001b[39;00m arg, dtype \u001b[38;5;129;01min\u001b[39;00m \u001b[38;5;28mzip\u001b[39m(args, resolved_dtypes)\n\u001b[1;32m    243\u001b[0m ]\n\u001b[1;32m    244\u001b[0m \u001b[38;5;66;03m# Broadcast to ensure all-scalar or all-nd-array\u001b[39;00m\n\u001b[0;32m--> 245\u001b[0m broadcasted_args \u001b[38;5;241m=\u001b[39m \u001b[38;5;28;43mself\u001b[39;49m\u001b[38;5;241;43m.\u001b[39;49m\u001b[43mbroadcast_arrays\u001b[49m\u001b[43m(\u001b[49m\u001b[38;5;241;43m*\u001b[39;49m\u001b[43mresolved_args\u001b[49m\u001b[43m)\u001b[49m\n\u001b[1;32m    246\u001b[0m \u001b[38;5;66;03m# Allow other nplikes to replace implementation\u001b[39;00m\n\u001b[1;32m    247\u001b[0m impl \u001b[38;5;241m=\u001b[39m \u001b[38;5;28mself\u001b[39m\u001b[38;5;241m.\u001b[39mprepare_ufunc(ufunc)\n",
      "File \u001b[0;32m~/miniforge3/envs/FASERSim/lib/python3.10/site-packages/awkward/_nplikes/array_module.py:279\u001b[0m, in \u001b[0;36mArrayModuleNumpyLike.broadcast_arrays\u001b[0;34m(self, *arrays)\u001b[0m\n\u001b[1;32m    277\u001b[0m \u001b[38;5;28;01mdef\u001b[39;00m \u001b[38;5;21mbroadcast_arrays\u001b[39m(\u001b[38;5;28mself\u001b[39m, \u001b[38;5;241m*\u001b[39marrays: ArrayLikeT) \u001b[38;5;241m-\u001b[39m\u001b[38;5;241m>\u001b[39m \u001b[38;5;28mlist\u001b[39m[ArrayLikeT]:\n\u001b[1;32m    278\u001b[0m     \u001b[38;5;28;01massert\u001b[39;00m \u001b[38;5;129;01mnot\u001b[39;00m \u001b[38;5;28many\u001b[39m(\u001b[38;5;28misinstance\u001b[39m(x, PlaceholderArray) \u001b[38;5;28;01mfor\u001b[39;00m x \u001b[38;5;129;01min\u001b[39;00m arrays)\n\u001b[0;32m--> 279\u001b[0m     \u001b[38;5;28;01mreturn\u001b[39;00m \u001b[38;5;28;43mself\u001b[39;49m\u001b[38;5;241;43m.\u001b[39;49m\u001b[43m_module\u001b[49m\u001b[38;5;241;43m.\u001b[39;49m\u001b[43mbroadcast_arrays\u001b[49m\u001b[43m(\u001b[49m\u001b[38;5;241;43m*\u001b[39;49m\u001b[43marrays\u001b[49m\u001b[43m)\u001b[49m\n",
      "File \u001b[0;32m~/miniforge3/envs/FASERSim/lib/python3.10/site-packages/numpy/lib/_stride_tricks_impl.py:563\u001b[0m, in \u001b[0;36mbroadcast_arrays\u001b[0;34m(subok, *args)\u001b[0m\n\u001b[1;32m    558\u001b[0m shape \u001b[38;5;241m=\u001b[39m _broadcast_shape(\u001b[38;5;241m*\u001b[39margs)\n\u001b[1;32m    560\u001b[0m result \u001b[38;5;241m=\u001b[39m [array \u001b[38;5;28;01mif\u001b[39;00m array\u001b[38;5;241m.\u001b[39mshape \u001b[38;5;241m==\u001b[39m shape\n\u001b[1;32m    561\u001b[0m           \u001b[38;5;28;01melse\u001b[39;00m _broadcast_to(array, shape, subok\u001b[38;5;241m=\u001b[39msubok, readonly\u001b[38;5;241m=\u001b[39m\u001b[38;5;28;01mFalse\u001b[39;00m)\n\u001b[1;32m    562\u001b[0m                           \u001b[38;5;28;01mfor\u001b[39;00m array \u001b[38;5;129;01min\u001b[39;00m args]\n\u001b[0;32m--> 563\u001b[0m \u001b[38;5;28;01mreturn\u001b[39;00m \u001b[38;5;28;43mtuple\u001b[39;49m\u001b[43m(\u001b[49m\u001b[43mresult\u001b[49m\u001b[43m)\u001b[49m\n",
      "\u001b[0;31mKeyboardInterrupt\u001b[0m: "
     ]
    },
    {
     "data": {
      "image/png": "[encoded data removed]",
      "text/plain": [
       "<Figure size 640x480 with 1 Axes>"
      ]
     },
     "metadata": {},
     "output_type": "display_data"
    }
   ],
   "source": [
    "for i in tqdm(range(0, 100)):\n",
    "    \n",
    "    fig, ax = plt.subplots()\n",
    "\n",
    "    for s, station in enumerate(hits):\n",
    "        \n",
    "        kinematics = station.arrays(station.keys(), library=\"ak\", cut=f\"fEvent == {i}\")\n",
    "        \n",
    "        marker_size = 1\n",
    "        alpha = 1\n",
    "        \n",
    "        electrons = kinematics[np.where(np.abs(kinematics['pdgc']) == 11)]\n",
    "        muons = kinematics[np.where(np.abs(kinematics['pdgc']) == 13)]\n",
    "        taus = kinematics[np.where(np.abs(kinematics['pdgc']) == 15)]\n",
    "        \n",
    "        if len(taus[\"E\"] != 0):\n",
    "            print(taus[\"E\"])\n",
    "        \n",
    "        gluons = kinematics[np.where(np.abs(kinematics['pdgc']) == 21)]\n",
    "        photons = kinematics[np.where(np.abs(kinematics['pdgc']) == 22)]\n",
    "        charged_hadrons = kinematics[np.where(np.abs(kinematics['pdgc']) > 37)]\n",
    "        neutral_hadrons = kinematics[np.where(np.abs(kinematics['pdgc']) > 37)]\n",
    "        charged_hadrons = kinematics[np.where(get_charge_from_pdgc(kinematics['pdgc']) != 0)]\n",
    "        neutral_hadrons = kinematics[np.where(get_charge_from_pdgc(kinematics['pdgc']) == 0)]\n",
    "        \n",
    "        scatter_on_ax(ax, neutral_hadrons, \"z\", \"y\", \"neutral hadrons\", 'grey', alpha=0.5, marker_size=marker_size)\n",
    "        scatter_on_ax(ax, charged_hadrons, \"z\", \"y\", \"charged hadrons\", 'forestgreen', alpha=alpha, marker_size=marker_size)\n",
    "        scatter_on_ax(ax, photons, \"z\", \"y\", r\"$\\gamma$\", 'yellow', alpha=0.5, marker_size=marker_size)\n",
    "        scatter_on_ax(ax, gluons, \"z\", \"y\", r\"$g$\", 'orange', alpha=0.5, marker_size=marker_size)\n",
    "        scatter_on_ax(ax, electrons, \"z\", \"y\", r\"$e^\\pm$\", 'lightblue', alpha=alpha, marker_size=marker_size)\n",
    "        scatter_on_ax(ax, muons, \"z\", \"y\", r\"$\\mu^\\pm$\", 'tomato', alpha=alpha, marker_size=marker_size)\n",
    "        scatter_on_ax(ax, taus, \"z\", \"y\", r\"$\\tau^\\pm$\", 'purple', alpha=alpha, marker_size=marker_size)\n",
    "        \n",
    "        \n",
    "        \n",
    "        \n",
    "    handles, labels = plt.gca().get_legend_handles_labels()\n",
    "    by_label = dict(zip(labels, handles))\n",
    "    ax.legend(by_label.values(), by_label.keys(), ncols=2, loc='center right', bbox_to_anchor=(1.55, 0.75))\n",
    "    ax.set_xlabel(\"z position (mm)\")\n",
    "    ax.set_ylabel(\"y position (mm)\")\n",
    "    ax.set_xlim((550, 735))\n",
    "    ax.set_ylim((-150, 150))\n",
    "    plt.savefig(f\"eventPlots/FASERvSi-0.5mmSCT/event_{i}_particle-dist-z-y.png\", dpi=300, bbox_inches='tight')\n",
    "    plt.close()\n",
    "    # break\n",
    "        "
   ]
  },
  {
   "cell_type": "code",
   "execution_count": 219,
   "metadata": {},
   "outputs": [
    {
     "name": "stderr",
     "output_type": "stream",
     "text": [
      " 14%|█▍        | 14/100 [00:08<00:56,  1.52it/s]"
     ]
    },
    {
     "name": "stdout",
     "output_type": "stream",
     "text": [
      "[933]\n",
      "[933]\n",
      "[933]\n",
      "[933]\n",
      "[933]\n",
      "[933]\n",
      "[933]\n",
      "[933]\n",
      "[933]\n",
      "[933]\n",
      "[933]\n",
      "[933]\n",
      "[933]\n",
      "[933]\n",
      "[933]\n",
      "[933]\n",
      "[933]\n",
      "[933]\n",
      "[933]\n",
      "[933]\n",
      "[933]\n",
      "[933]\n",
      "[933]\n",
      "[933]\n",
      "[933]\n",
      "[933]\n",
      "[933]\n",
      "[933]\n",
      "[933]\n",
      "[933]\n",
      "[933]\n",
      "[933]\n",
      "[933]\n",
      "[933]\n",
      "[933]\n"
     ]
    },
    {
     "name": "stderr",
     "output_type": "stream",
     "text": [
      " 88%|████████▊ | 88/100 [01:00<00:07,  1.59it/s]"
     ]
    },
    {
     "name": "stdout",
     "output_type": "stream",
     "text": [
      "[1.91e+03]\n",
      "[1.91e+03]\n",
      "[1.91e+03]\n",
      "[1.91e+03]\n"
     ]
    },
    {
     "name": "stderr",
     "output_type": "stream",
     "text": [
      "100%|██████████| 100/100 [01:07<00:00,  1.48it/s]\n"
     ]
    }
   ],
   "source": [
    "for i in tqdm(range(0, 100)):\n",
    "\n",
    "    for s, station in enumerate(hits):\n",
    "        \n",
    "        kinematics = station.arrays(station.keys(), library=\"ak\", cut=f\"fEvent == {i}\")\n",
    "        \n",
    "        marker_size = 1\n",
    "        alpha = 1\n",
    "        \n",
    "        # electrons = kinematics[np.where(np.abs(kinematics['pdgc']) == 11)]\n",
    "        # muons = kinematics[np.where(np.abs(kinematics['pdgc']) == 13)]\n",
    "        taus = kinematics[np.where(np.abs(kinematics['pdgc']) == 15)]\n",
    "        \n",
    "        if len(taus[\"E\"] != 0):\n",
    "            print(taus[\"E\"])\n",
    "        \n",
    "        # gluons = kinematics[np.where(np.abs(kinematics['pdgc']) == 21)]\n",
    "        # photons = kinematics[np.where(np.abs(kinematics['pdgc']) == 22)]\n",
    "        # charged_hadrons = kinematics[np.where(np.abs(kinematics['pdgc']) > 37)]\n",
    "        # neutral_hadrons = kinematics[np.where(np.abs(kinematics['pdgc']) > 37)]\n",
    "        # charged_hadrons = kinematics[np.where(get_charge_from_pdgc(kinematics['pdgc']) != 0)]\n",
    "        # neutral_hadrons = kinematics[np.where(get_charge_from_pdgc(kinematics['pdgc']) == 0)]\n"
   ]
  }
 ],
 "metadata": {
  "kernelspec": {
   "display_name": "Python 3",
   "language": "python",
   "name": "python3"
  },
  "language_info": {
   "codemirror_mode": {
    "name": "ipython",
    "version": 3
   },
   "file_extension": ".py",
   "mimetype": "text/x-python",
   "name": "python",
   "nbconvert_exporter": "python",
   "pygments_lexer": "ipython3",
   "version": "3.10.15"
  }
 },
 "nbformat": 4,
 "nbformat_minor": 2
}
