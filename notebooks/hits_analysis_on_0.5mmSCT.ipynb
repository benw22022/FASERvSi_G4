{
 "cells": [
  {
   "cell_type": "code",
   "execution_count": 145,
   "metadata": {},
   "outputs": [],
   "source": [
    "import uproot\n",
    "import awkward as ak\n",
    "import numpy as np\n",
    "import matplotlib.pyplot as plt\n",
    "import os\n",
    "from tqdm import tqdm\n",
    "from particle import Particle, InvalidParticle, ParticleNotFound"
   ]
  },
  {
   "cell_type": "markdown",
   "metadata": {},
   "source": [
    "# Initial FASERvSi studies\n",
    "\n",
    "Detector setup:\n",
    "132 layers of Tungsten and 'SCT' (sensitive vacuum)\n",
    "Tungsten layers are 0.9 mm thick\n",
    "Gap between Tungsten sheets is 0.5 mm\n",
    "1000 events generated - mix of $\\nu_e$, $\\nu_\\mu$ and $\\nu_\\tau$\n",
    "\n",
    "Real gap *should* be 7.08 mm but there seems to be an issue with the GENIE code which is preventing neutrinos from being generated in that setup"
   ]
  },
  {
   "cell_type": "code",
   "execution_count": 165,
   "metadata": {},
   "outputs": [],
   "source": [
    "data = uproot.open(\"../FASERvSi_baseline-build/output.root\")"
   ]
  },
  {
   "cell_type": "code",
   "execution_count": 200,
   "metadata": {},
   "outputs": [],
   "source": [
    "def _get_pos_and_energy(uproot_data, particle_type, event_number=None):\n",
    "    allowed_types = [\"ep\", \"em\", \"mm\",  \"mp\", \"hm\", \"hp\"]\n",
    "    if particle_type not in allowed_types:\n",
    "        raise ValueError(f\"particle_type must be one of these {allowed_types}\")\n",
    "\n",
    "    kin_suffixes = [\"x\", \"y\", \"z\", \"E\"]\n",
    "    \n",
    "    cut_expression = f\"{particle_type}_z >= 0\" \n",
    "    \n",
    "    kinematics = uproot_data.arrays([f\"{particle_type}_{k}\" for k in kin_suffixes], library=\"np\", cut=cut_expression)\n",
    "    \n",
    "    if event_number is None:\n",
    "        return {\"x\": kinematics[f\"{particle_type}_x\"], \"y\": kinematics[f\"{particle_type}_y\"], \"z\": kinematics[f\"{particle_type}_z\"], \"E\": kinematics[f\"{particle_type}_E\"]}\n",
    "    \n",
    "    return {\"x\": kinematics[f\"{particle_type}_x\"][event_number], \"y\": kinematics[f\"{particle_type}_y\"][event_number], \"z\": kinematics[f\"{particle_type}_z\"][event_number], \"E\": kinematics[f\"{particle_type}_E\"][event_number]}\n",
    "    "
   ]
  },
  {
   "cell_type": "code",
   "execution_count": 201,
   "metadata": {},
   "outputs": [],
   "source": [
    "def _get_name_from_pdgc(pdgc):\n",
    "    try:\n",
    "        particle = Particle.from_pdgid(pdgc)\n",
    "        \n",
    "        particle_name = particle.name\n",
    "        \n",
    "        if pdgc < 0 and \"+\" not in particle_name and \"-\" not in particle_name:\n",
    "            particle_name = f\"anti-{particle_name}\"\n",
    "        \n",
    "        return particle_name\n",
    "        \n",
    "    except InvalidParticle:\n",
    "        return f\"Unknown PDG Code: {pdgc}\"\n",
    "    except ParticleNotFound:\n",
    "        return f\"Particle not found: {pdgc}\""
   ]
  },
  {
   "cell_type": "code",
   "execution_count": 205,
   "metadata": {},
   "outputs": [],
   "source": [
    "def _get_charge_from_pdgc(pdgc):\n",
    "    try:\n",
    "        particle = Particle.from_pdgid(pdgc)\n",
    "        \n",
    "        particle_charge = particle.charge\n",
    "        \n",
    "        return particle_charge\n",
    "        \n",
    "    except InvalidParticle:\n",
    "        return f\"Unknown PDG Code: {pdgc}\"\n",
    "    except ParticleNotFound:\n",
    "        return f\"Particle not found: {pdgc}\""
   ]
  },
  {
   "cell_type": "code",
   "execution_count": 206,
   "metadata": {},
   "outputs": [],
   "source": [
    "def get_name_from_pdgc(pdgc):\n",
    "    result = []\n",
    "    try:\n",
    "        len(pdgc)\n",
    "        for p in pdgc:\n",
    "            result.append(_get_name_from_pdgc(p))\n",
    "    except TypeError:\n",
    "        return _get_name_from_pdgc(pdgc)\n",
    "\n",
    "    return np.array(result)"
   ]
  },
  {
   "cell_type": "code",
   "execution_count": 207,
   "metadata": {},
   "outputs": [],
   "source": [
    "def get_charge_from_pdgc(pdgc):\n",
    "    result = []\n",
    "    try:\n",
    "        len(pdgc)\n",
    "        for p in pdgc:\n",
    "            result.append(_get_charge_from_pdgc(p))\n",
    "    except TypeError:\n",
    "        return _get_name_from_pdgc(pdgc)\n",
    "    \n",
    "    return np.array(result)"
   ]
  },
  {
   "cell_type": "code",
   "execution_count": 204,
   "metadata": {},
   "outputs": [],
   "source": []
  },
  {
   "cell_type": "code",
   "execution_count": 166,
   "metadata": {},
   "outputs": [],
   "source": [
    "hits = [data[treename] for treename in data.keys()]"
   ]
  },
  {
   "cell_type": "code",
   "execution_count": 208,
   "metadata": {},
   "outputs": [
    {
     "name": "stdout",
     "output_type": "stream",
     "text": [
      "pdgc = 130.0            name = K(L)0            charge = K(L)0\n",
      "pdgc = 11.0             name = e-               charge = e-\n",
      "pdgc = 12.0             name = nu(e)            charge = nu(e)\n",
      "pdgc = 13.0             name = mu-              charge = mu-\n",
      "pdgc = 14.0             name = nu(mu)           charge = nu(mu)\n",
      "pdgc = 16.0             name = nu(tau)          charge = nu(tau)\n",
      "pdgc = 22.0             name = gamma            charge = gamma\n",
      "pdgc = 4122.0           name = Lambda(c)+       charge = Lambda(c)+\n",
      "pdgc = 2212.0           name = p                charge = p\n",
      "pdgc = 1000010020.0     name = D2               charge = D2\n",
      "pdgc = 3112.0           name = Sigma-           charge = Sigma-\n",
      "pdgc = -211.0           name = pi-              charge = pi-\n",
      "pdgc = 1000010030.0     name = T3               charge = T3\n",
      "pdgc = 3122.0           name = Lambda           charge = Lambda\n",
      "pdgc = 310.0            name = K(S)0            charge = K(S)0\n",
      "pdgc = -321.0           name = K-               charge = K-\n",
      "pdgc = 2112.0           name = n                charge = n\n",
      "pdgc = 321.0            name = K+               charge = K+\n",
      "pdgc = -2112.0          name = anti-n~          charge = anti-n~\n",
      "pdgc = 1000020040.0     name = He4              charge = He4\n",
      "pdgc = -3122.0          name = anti-Lambda~     charge = anti-Lambda~\n",
      "pdgc = 211.0            name = pi+              charge = pi+\n",
      "pdgc = -2212.0          name = anti-p~          charge = anti-p~\n",
      "pdgc = -3222.0          name = Sigma~-          charge = Sigma~-\n",
      "pdgc = -16.0            name = anti-nu(tau)~    charge = anti-nu(tau)~\n",
      "pdgc = -14.0            name = anti-nu(mu)~     charge = anti-nu(mu)~\n",
      "pdgc = -13.0            name = mu+              charge = mu+\n",
      "pdgc = -12.0            name = anti-nu(e)~      charge = anti-nu(e)~\n",
      "pdgc = -11.0            name = e+               charge = e+\n",
      "pdgc = 3322.0           name = Xi0              charge = Xi0\n"
     ]
    }
   ],
   "source": [
    "pdgc = hits[-1].arrays(\"pdgc\", library=\"np\")[\"pdgc\"]\n",
    "\n",
    "pdgc = set(pdgc)\n",
    "\n",
    "for p in pdgc:\n",
    "    print(f\"pdgc = {p:<13}    name = {get_name_from_pdgc(p):<13}    charge = {get_charge_from_pdgc(p)}\")"
   ]
  },
  {
   "cell_type": "code",
   "execution_count": 150,
   "metadata": {},
   "outputs": [],
   "source": [
    "def scatter_on_ax(ax, event_data, x_var, y_var, label, color,  alpha=1, marker_size=1):\n",
    "    \n",
    "    if len(event_data[x_var]) == 0:\n",
    "        return None\n",
    "    \n",
    "    ax.scatter(event_data[x_var], event_data[y_var], color=color, marker=\",\", label=label, alpha=alpha, s=marker_size)"
   ]
  },
  {
   "cell_type": "code",
   "execution_count": 167,
   "metadata": {},
   "outputs": [
    {
     "name": "stdout",
     "output_type": "stream",
     "text": [
      "[ 0  3  9 10 10 10 10 14 14 14 14 15 17 18 20 22 26 26 26 26 26 30 33 33\n",
      " 33 33 35 35 39 39 42 45 45 45 47 47 47 47 47 47 49 51 55 55 57 57 59 59\n",
      " 60 61 65 66 69 71 73 75 80 81 81 81 81 81 81 85 85 85 85 85 85 85 88 88\n",
      " 88 90 94 96]\n"
     ]
    }
   ],
   "source": [
    "event_numbers = hits[0].arrays(\"fEvent\", library=\"np\")[\"fEvent\"]\n",
    "\n",
    "print(event_numbers)"
   ]
  },
  {
   "cell_type": "code",
   "execution_count": 214,
   "metadata": {},
   "outputs": [
    {
     "name": "stderr",
     "output_type": "stream",
     "text": [
      "  8%|▊         | 4/50 [00:11<02:25,  3.17s/it]"
     ]
    }
   ],
   "source": [
    "for i in tqdm(range(50)):\n",
    "    \n",
    "    fig, ax = plt.subplots()\n",
    "\n",
    "    for s, station in enumerate(hits):\n",
    "        \n",
    "        kinematics = station.arrays(station.keys(), library=\"ak\", cut=f\"fEvent == {i}\")\n",
    "        \n",
    "        marker_size = 1\n",
    "        alpha = 1\n",
    "        \n",
    "        electrons = kinematics[np.where(np.abs(kinematics['pdgc']) == 11)]\n",
    "        muons = kinematics[np.where(np.abs(kinematics['pdgc']) == 13)]\n",
    "        taus = kinematics[np.where(np.abs(kinematics['pdgc']) == 15)]\n",
    "        gluons = kinematics[np.where(np.abs(kinematics['pdgc']) == 21)]\n",
    "        photons = kinematics[np.where(np.abs(kinematics['pdgc']) == 22)]\n",
    "        charged_hadrons = kinematics[np.where(np.abs(kinematics['pdgc']) > 37)]\n",
    "        neutral_hadrons = kinematics[np.where(np.abs(kinematics['pdgc']) > 37)]\n",
    "        charged_hadrons = kinematics[np.where(get_charge_from_pdgc(kinematics['pdgc']) != 0)]\n",
    "        neutral_hadrons = kinematics[np.where(get_charge_from_pdgc(kinematics['pdgc']) == 0)]\n",
    "        \n",
    "        scatter_on_ax(ax, neutral_hadrons, \"z\", \"y\", \"neutral hadrons\", 'grey', alpha=0.5, marker_size=marker_size)\n",
    "        scatter_on_ax(ax, charged_hadrons, \"z\", \"y\", \"charged hadrons\", 'forestgreen', alpha=alpha, marker_size=marker_size)\n",
    "        scatter_on_ax(ax, photons, \"z\", \"y\", r\"$\\gamma$\", 'yellow', alpha=0.5, marker_size=marker_size)\n",
    "        scatter_on_ax(ax, gluons, \"z\", \"y\", r\"$g$\", 'orange', alpha=0.5, marker_size=marker_size)\n",
    "        scatter_on_ax(ax, electrons, \"z\", \"y\", r\"$e^\\pm$\", 'lightblue', alpha=alpha, marker_size=marker_size)\n",
    "        scatter_on_ax(ax, muons, \"z\", \"y\", r\"$\\mu^\\pm$\", 'tomato', alpha=alpha, marker_size=marker_size)\n",
    "        scatter_on_ax(ax, taus, \"z\", \"y\", r\"$\\tau^\\pm$\", 'purple', alpha=alpha, marker_size=marker_size)\n",
    "        \n",
    "        \n",
    "        \n",
    "        \n",
    "    handles, labels = plt.gca().get_legend_handles_labels()\n",
    "    by_label = dict(zip(labels, handles))\n",
    "    ax.legend(by_label.values(), by_label.keys(), ncols=2, loc='center right', bbox_to_anchor=(1.55, 0.75))\n",
    "    ax.set_xlabel(\"z position (mm)\")\n",
    "    ax.set_ylabel(\"y position (mm)\")\n",
    "    ax.set_xlim((550, 735))\n",
    "    ax.set_ylim((-150, 150))\n",
    "    plt.savefig(f\"eventPlots/FASERvSi-0.5mmSCT/event_{i}_particle-dist-z-y.png\", dpi=300, bbox_inches='tight')\n",
    "    plt.close()\n",
    "    # break\n",
    "        "
   ]
  }
 ],
 "metadata": {
  "kernelspec": {
   "display_name": "Python 3",
   "language": "python",
   "name": "python3"
  },
  "language_info": {
   "codemirror_mode": {
    "name": "ipython",
    "version": 3
   },
   "file_extension": ".py",
   "mimetype": "text/x-python",
   "name": "python",
   "nbconvert_exporter": "python",
   "pygments_lexer": "ipython3",
   "version": "3.10.15"
  }
 },
 "nbformat": 4,
 "nbformat_minor": 2
}
