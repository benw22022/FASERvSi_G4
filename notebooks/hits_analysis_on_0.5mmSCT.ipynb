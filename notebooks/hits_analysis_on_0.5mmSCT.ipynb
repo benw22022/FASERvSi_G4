{
 "cells": [
  {
   "cell_type": "code",
   "execution_count": 145,
   "metadata": {},
   "outputs": [],
   "source": [
    "import uproot\n",
    "import awkward as ak\n",
    "import numpy as np\n",
    "import matplotlib.pyplot as plt\n",
    "import os\n",
    "from tqdm import tqdm\n",
    "from particle import Particle, InvalidParticle, ParticleNotFound"
   ]
  },
  {
   "cell_type": "markdown",
   "metadata": {},
   "source": [
    "# Initial FASERvSi studies\n",
    "\n",
    "Detector setup:\n",
    "132 layers of Tungsten and 'SCT' (sensitive vacuum)\n",
    "Tungsten layers are 0.9 mm thick\n",
    "Gap between Tungsten sheets is 0.5 mm\n",
    "1000 events generated - mix of $\\nu_e$, $\\nu_\\mu$ and $\\nu_\\tau$\n",
    "\n",
    "Real gap *should* be 7.08 mm but there seems to be an issue with the GENIE code which is preventing neutrinos from being generated in that setup"
   ]
  },
  {
   "cell_type": "code",
   "execution_count": 165,
   "metadata": {},
   "outputs": [],
   "source": [
    "data = uproot.open(\"../FASERvSi_baseline-build/output.root\")"
   ]
  },
  {
   "cell_type": "code",
   "execution_count": 147,
   "metadata": {},
   "outputs": [],
   "source": [
    "def get_pos_and_energy(uproot_data, particle_type, event_number=None):\n",
    "    allowed_types = [\"ep\", \"em\", \"mm\",  \"mp\", \"hm\", \"hp\"]\n",
    "    if particle_type not in allowed_types:\n",
    "        raise ValueError(f\"particle_type must be one of these {allowed_types}\")\n",
    "\n",
    "    kin_suffixes = [\"x\", \"y\", \"z\", \"E\"]\n",
    "    \n",
    "    cut_expression = f\"{particle_type}_z >= 0\" \n",
    "    \n",
    "    kinematics = uproot_data.arrays([f\"{particle_type}_{k}\" for k in kin_suffixes], library=\"np\", cut=cut_expression)\n",
    "    \n",
    "    if event_number is None:\n",
    "        return {\"x\": kinematics[f\"{particle_type}_x\"], \"y\": kinematics[f\"{particle_type}_y\"], \"z\": kinematics[f\"{particle_type}_z\"], \"E\": kinematics[f\"{particle_type}_E\"]}\n",
    "    \n",
    "    return {\"x\": kinematics[f\"{particle_type}_x\"][event_number], \"y\": kinematics[f\"{particle_type}_y\"][event_number], \"z\": kinematics[f\"{particle_type}_z\"][event_number], \"E\": kinematics[f\"{particle_type}_E\"][event_number]}\n",
    "    "
   ]
  },
  {
   "cell_type": "code",
   "execution_count": 148,
   "metadata": {},
   "outputs": [],
   "source": [
    "def get_name_from_pdgc(pdgc):\n",
    "    try:\n",
    "        particle = Particle.from_pdgid(abs(pdgc))\n",
    "        \n",
    "        particle_name = particle.name\n",
    "        \n",
    "        if pdgc < 0 and \"+\" not in particle_name and \"-\" not in particle_name:\n",
    "            particle_name = f\"anti-{particle_name}\"\n",
    "        \n",
    "        return particle_name\n",
    "        \n",
    "    except InvalidParticle:\n",
    "        return f\"Unknown PDG Code: {pdgc}\"\n",
    "    except ParticleNotFound:\n",
    "        return f\"Particle not found: {pdgc}\""
   ]
  },
  {
   "cell_type": "code",
   "execution_count": 166,
   "metadata": {},
   "outputs": [],
   "source": [
    "hits = [data[treename] for treename in data.keys()]"
   ]
  },
  {
   "cell_type": "code",
   "execution_count": 150,
   "metadata": {},
   "outputs": [],
   "source": [
    "def scatter_on_ax(ax, event_data, x_var, y_var, label, color,  alpha=1, marker_size=1):\n",
    "    \n",
    "    if len(event_data[x_var]) == 0:\n",
    "        return None\n",
    "    \n",
    "    ax.scatter(event_data[x_var], event_data[y_var], color=color, marker=\",\", label=label, alpha=alpha, s=marker_size)"
   ]
  },
  {
   "cell_type": "code",
   "execution_count": 167,
   "metadata": {},
   "outputs": [
    {
     "name": "stdout",
     "output_type": "stream",
     "text": [
      "[ 0  3  9 10 10 10 10 14 14 14 14 15 17 18 20 22 26 26 26 26 26 30 33 33\n",
      " 33 33 35 35 39 39 42 45 45 45 47 47 47 47 47 47 49 51 55 55 57 57 59 59\n",
      " 60 61 65 66 69 71 73 75 80 81 81 81 81 81 81 85 85 85 85 85 85 85 88 88\n",
      " 88 90 94 96]\n"
     ]
    }
   ],
   "source": [
    "event_numbers = hits[0].arrays(\"fEvent\", library=\"np\")[\"fEvent\"]\n",
    "\n",
    "print(event_numbers)"
   ]
  },
  {
   "cell_type": "code",
   "execution_count": 172,
   "metadata": {},
   "outputs": [
    {
     "name": "stderr",
     "output_type": "stream",
     "text": [
      "  0%|          | 0/50 [00:00<?, ?it/s]"
     ]
    },
    {
     "name": "stderr",
     "output_type": "stream",
     "text": [
      "100%|██████████| 50/50 [02:14<00:00,  2.68s/it]\n"
     ]
    }
   ],
   "source": [
    "for i in tqdm(range(50)):\n",
    "    \n",
    "    fig, ax = plt.subplots()\n",
    "\n",
    "    for s, station in enumerate(hits):\n",
    "        \n",
    "        kinematics = station.arrays(station.keys(), library=\"ak\", cut=f\"fEvent == {i}\")\n",
    "        \n",
    "        marker_size = 1\n",
    "        alpha = 1\n",
    "        \n",
    "        electrons = kinematics[np.where(np.abs(kinematics['pdgc']) == 11)]\n",
    "        muons = kinematics[np.where(np.abs(kinematics['pdgc']) == 13)]\n",
    "        taus = kinematics[np.where(np.abs(kinematics['pdgc']) == 15)]\n",
    "        gluons = kinematics[np.where(np.abs(kinematics['pdgc']) == 21)]\n",
    "        photons = kinematics[np.where(np.abs(kinematics['pdgc']) == 22)]\n",
    "        hadrons = kinematics[np.where(np.abs(kinematics['pdgc']) > 37)]\n",
    "        \n",
    "        scatter_on_ax(ax, hadrons, \"z\", \"y\", \"hadrons\", 'forestgreen', alpha=alpha, marker_size=marker_size)\n",
    "        scatter_on_ax(ax, photons, \"z\", \"y\", r\"$\\gamma$\", 'yellow', alpha=alpha, marker_size=marker_size)\n",
    "        scatter_on_ax(ax, gluons, \"z\", \"y\", r\"$g$\", 'orange', alpha=alpha, marker_size=marker_size)\n",
    "        scatter_on_ax(ax, electrons, \"z\", \"y\", r\"$e^\\pm$\", 'lightblue', alpha=alpha, marker_size=marker_size)\n",
    "        scatter_on_ax(ax, muons, \"z\", \"y\", r\"$\\mu^\\pm$\", 'tomato', alpha=alpha, marker_size=marker_size)\n",
    "        scatter_on_ax(ax, taus, \"z\", \"y\", r\"$\\tau^\\pm$\", 'purple', alpha=alpha, marker_size=marker_size)\n",
    "        \n",
    "        \n",
    "        \n",
    "        \n",
    "    handles, labels = plt.gca().get_legend_handles_labels()\n",
    "    by_label = dict(zip(labels, handles))\n",
    "    ax.legend(by_label.values(), by_label.keys(), ncols=2, loc='center right', bbox_to_anchor=(1.45, 0.5))\n",
    "    ax.set_xlabel(\"z position (mm)\")\n",
    "    ax.set_ylabel(\"y position (mm)\")\n",
    "    ax.set_xlim((550, 735))\n",
    "    ax.set_ylim((-150, 150))\n",
    "    plt.savefig(f\"eventPlots/FASERvSi-0.5mmSCT/event_{i}_particle-dist-z-y.png\", dpi=300, bbox_inches='tight')\n",
    "    plt.close()\n",
    "    # break\n",
    "        "
   ]
  }
 ],
 "metadata": {
  "kernelspec": {
   "display_name": "Python 3",
   "language": "python",
   "name": "python3"
  },
  "language_info": {
   "codemirror_mode": {
    "name": "ipython",
    "version": 3
   },
   "file_extension": ".py",
   "mimetype": "text/x-python",
   "name": "python",
   "nbconvert_exporter": "python",
   "pygments_lexer": "ipython3",
   "version": "3.10.15"
  }
 },
 "nbformat": 4,
 "nbformat_minor": 2
}
