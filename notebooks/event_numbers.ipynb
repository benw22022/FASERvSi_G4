{
 "cells": [
  {
   "cell_type": "code",
   "execution_count": 50,
   "metadata": {},
   "outputs": [],
   "source": [
    "import numpy as np\n",
    "import matplotlib.pyplot as plt\n",
    "import awkward as ak\n",
    "import uproot\n",
    "import os\n",
    "import glob\n",
    "from itertools import chain\n",
    "from copy import deepcopy\n",
    "import plotly.graph_objs as go\n",
    "import plotly.express as px\n",
    "from tqdm import tqdm\n",
    "from particle import Particle, InvalidParticle, ParticleNotFound\n",
    "from dataclasses import dataclass, field\n",
    "from typing import Tuple\n",
    "import scipy.optimize as opt"
   ]
  },
  {
   "cell_type": "code",
   "execution_count": 21,
   "metadata": {},
   "outputs": [],
   "source": [
    "lumi_sf = 1/10\n",
    "tungsten_density_gcm3 = 19.3 # g/cm^3\n",
    "nominal_sheet_area_cm2 = 25 * 30 # cm^2\n",
    "nominal_tungsten_thickness = 0.09 # cm \n",
    "nominal_length_cm = 105 # cm\n",
    "nominal_number_of_layers = 132\n",
    "data_fpath = \"/home/bewilson/FASERvSi_G4/GeantOutput/CombinedLightCharm6800fb.root\""
   ]
  },
  {
   "cell_type": "code",
   "execution_count": 3,
   "metadata": {},
   "outputs": [],
   "source": [
    "data = uproot.open(f\"{data_fpath}:Hits\")"
   ]
  },
  {
   "cell_type": "code",
   "execution_count": 4,
   "metadata": {},
   "outputs": [],
   "source": [
    "events = data.arrays(data.keys())"
   ]
  },
  {
   "cell_type": "code",
   "execution_count": 11,
   "metadata": {},
   "outputs": [],
   "source": [
    "cc_data = events[events['isCC'] == True]\n",
    "nc_data = events[events['isCC'] == False]\n",
    "cc_el_data = events[(events['isCC'] == True) & (abs(events['nu_pdgc']) == 12)]\n",
    "cc_mu_data = events[(events['isCC'] == True) & (abs(events['nu_pdgc']) == 14)]\n",
    "cc_tau_data = events[(events['isCC'] == True) & (abs(events['nu_pdgc']) == 16)]"
   ]
  },
  {
   "cell_type": "code",
   "execution_count": 12,
   "metadata": {},
   "outputs": [],
   "source": [
    "n_nc_events = len(nc_data)\n",
    "n_cc_el_events = len(cc_el_data)\n",
    "n_cc_mu_events = len(cc_mu_data)\n",
    "n_cc_tau_events = len(cc_tau_data)"
   ]
  },
  {
   "cell_type": "code",
   "execution_count": 13,
   "metadata": {},
   "outputs": [
    {
     "name": "stdout",
     "output_type": "stream",
     "text": [
      "Number of raw events: 46042\n"
     ]
    }
   ],
   "source": [
    "print(f\"Number of raw events: {len(events)}\")"
   ]
  },
  {
   "cell_type": "code",
   "execution_count": 38,
   "metadata": {},
   "outputs": [
    {
     "name": "stdout",
     "output_type": "stream",
     "text": [
      "Baseline Setup - 132 SCT | 132 Tungsten | 0.9 mm\n",
      "------------------------------------------------------------\n",
      "Number of Neutral current events: 1081.10\n",
      "Number of CC electron neutrino events: 539.00\n",
      "Number of CC muon neutrino events: 2971.90\n",
      "Number of CC tau neutrino events: 12.20\n",
      "\n",
      "\n",
      "Nominal target mass = 171.96 kg\n"
     ]
    }
   ],
   "source": [
    "print(\"Baseline Setup - 132 SCT | 132 Tungsten | 0.9 mm\")\n",
    "print(f\"{'-' * 60}\")\n",
    "print(f\"Number of Neutral current events: {n_nc_events*lumi_sf:.2f}\")\n",
    "print(f\"Number of CC electron neutrino events: {n_cc_el_events*lumi_sf:.2f}\")\n",
    "print(f\"Number of CC muon neutrino events: {n_cc_mu_events*lumi_sf:.2f}\")\n",
    "print(f\"Number of CC tau neutrino events: {n_cc_tau_events*lumi_sf:.2f}\")\n",
    "print(\"\\n\")\n",
    "nominal_tungsten_mass_g = tungsten_density_gcm3 * nominal_sheet_area_cm2 * nominal_tungsten_thickness * nominal_number_of_layers\n",
    "print(f\"Nominal target mass = {nominal_tungsten_mass_g/1000:.2f} kg\")"
   ]
  },
  {
   "cell_type": "code",
   "execution_count": 37,
   "metadata": {},
   "outputs": [
    {
     "name": "stdout",
     "output_type": "stream",
     "text": [
      "Alternative 1 - 100 SCT | 100 Tungsten | 3.4 mm\n",
      "------------------------------------------------------------\n",
      "New mass / nominal = 2.86\n",
      "Number of Neutral current events: 3094.06\n",
      "Number of CC electron neutrino events: 1542.59\n",
      "Number of CC muon neutrino events: 8505.44\n",
      "Number of CC tau neutrino events: 34.92\n",
      "\n",
      "\n",
      "Nominal target mass = 492.15 kg\n"
     ]
    }
   ],
   "source": [
    "print(\"Alternative 1 - 100 SCT | 100 Tungsten | 3.4 mm\")\n",
    "print(f\"{'-' * 60}\")\n",
    "tungsten_mass_g = tungsten_density_gcm3 * nominal_sheet_area_cm2 * 0.34 * 100\n",
    "\n",
    "alt_1_sf = (tungsten_mass_g / nominal_tungsten_mass_g) * lumi_sf\n",
    "\n",
    "print(f\"New mass / nominal = {tungsten_mass_g / nominal_tungsten_mass_g:.2f}\")\n",
    "\n",
    "print(f\"Number of Neutral current events: {n_nc_events*alt_1_sf:.2f}\")\n",
    "print(f\"Number of CC electron neutrino events: {n_cc_el_events*alt_1_sf:.2f}\")\n",
    "print(f\"Number of CC muon neutrino events: {n_cc_mu_events*alt_1_sf:.2f}\")\n",
    "print(f\"Number of CC tau neutrino events: {n_cc_tau_events*alt_1_sf:.2f}\")\n",
    "print(\"\\n\")\n",
    "\n",
    "print(f\"Nominal target mass = {tungsten_mass_g/1000:.2f} kg\")"
   ]
  },
  {
   "cell_type": "code",
   "execution_count": 48,
   "metadata": {},
   "outputs": [
    {
     "name": "stdout",
     "output_type": "stream",
     "text": [
      "Sheet thickness for 100 layer and 1 Tonne: 0.69 cm\n",
      "Detector length = 139.80 cm\n"
     ]
    }
   ],
   "source": [
    "thickness_1tonne = 1000000 / (tungsten_density_gcm3 * nominal_sheet_area_cm2 * 100)\n",
    "print(f\"Sheet thickness for 100 layer and 1 Tonne: {thickness_1tonne:.2f} cm\")\n",
    "det_length = 100 * (0.708 + 0.69)\n",
    "print(f\"Detector length = {det_length:.2f} cm\")"
   ]
  },
  {
   "cell_type": "code",
   "execution_count": 45,
   "metadata": {},
   "outputs": [
    {
     "name": "stdout",
     "output_type": "stream",
     "text": [
      "Alternative 2 - 100 SCT | 1000 kg Tungsten | 6.9 mm\n",
      "------------------------------------------------------------\n",
      "New mass / nominal = 5.81\n",
      "Number of Neutral current events: 6279.12\n",
      "Number of CC electron neutrino events: 3130.56\n",
      "Number of CC muon neutrino events: 17261.04\n",
      "Number of CC tau neutrino events: 70.86\n",
      "\n",
      "\n",
      "Nominal target mass = 998.77\n"
     ]
    }
   ],
   "source": [
    "print(\"Alternative 2 - 100 SCT | 1000 kg Tungsten | 6.9 mm\")\n",
    "print(f\"{'-' * 60}\")\n",
    "tungsten_mass_g = tungsten_density_gcm3 * nominal_sheet_area_cm2 * 0.69 * 100\n",
    "\n",
    "alt_2_sf = (tungsten_mass_g / nominal_tungsten_mass_g) * lumi_sf\n",
    "\n",
    "print(f\"New mass / nominal = {tungsten_mass_g / nominal_tungsten_mass_g:.2f}\")\n",
    "\n",
    "print(f\"Number of Neutral current events: {n_nc_events*alt_2_sf:.2f}\")\n",
    "print(f\"Number of CC electron neutrino events: {n_cc_el_events*alt_2_sf:.2f}\")\n",
    "print(f\"Number of CC muon neutrino events: {n_cc_mu_events*alt_2_sf:.2f}\")\n",
    "print(f\"Number of CC tau neutrino events: {n_cc_tau_events*alt_2_sf:.2f}\")\n",
    "print(\"\\n\")\n",
    "\n",
    "print(f\"Nominal target mass = {tungsten_mass_g/1000:.2f}\")"
   ]
  },
  {
   "cell_type": "code",
   "execution_count": 85,
   "metadata": {},
   "outputs": [],
   "source": [
    "def func_to_minimise(args, target_mass=1000000, target_length=105, mass_tol=5000):\n",
    "    thickness, nlayers = args\n",
    "    det_length = nlayers * (thickness + 0.709)\n",
    "    det_masss = nlayers * thickness * tungsten_density_gcm3 * nominal_sheet_area_cm2\n",
    "    \n",
    "    if det_length > target_length: \n",
    "        # print(f\"{thickness:.3f} {nlayers} --- Too long! -- {det_length} cm\")\n",
    "        return 1e10\n",
    "    # if abs(target_mass - det_masss) > mass_tol: \n",
    "    #     print(f\"{thickness:.3f} {nlayers} --- Not the right mass! -- {det_masss/1000:.2f} kg\")\n",
    "    #     return 1e10\n",
    "    \n",
    "    # print(abs(target_mass - det_masss))\n",
    "    return abs(target_mass - det_masss)"
   ]
  },
  {
   "cell_type": "code",
   "execution_count": 97,
   "metadata": {},
   "outputs": [
    {
     "name": "stdout",
     "output_type": "stream",
     "text": [
      "Optimization terminated successfully.\n",
      "         Current function value: 0.000002\n",
      "         Iterations: 83\n",
      "         Function evaluations: 155\n",
      "Optimal thickness: 1.53 cm\n",
      "Optimal number of layers: 45\n",
      "Detector length = 100.81 cm\n",
      "Detector mass = 1000.00 kg\n"
     ]
    }
   ],
   "source": [
    "initial_guess = [0.69, 75]\n",
    "\n",
    "# Minimize the function\n",
    "result = opt.fmin(func_to_minimise, initial_guess, args=(1000000, 105, 5000))\n",
    "                  \n",
    "print(f\"Optimal thickness: {result[0]:.2f} cm\")\n",
    "print(f\"Optimal number of layers: {result[1]:.0f}\")\n",
    "print(f\"Detector length = {round(result[1]) * (result[0] + 0.709):.2f} cm\")\n",
    "print(f\"Detector mass = {(result[1] * result[0] * tungsten_density_gcm3 * nominal_sheet_area_cm2)/1000:.2f} kg\")"
   ]
  },
  {
   "cell_type": "code",
   "execution_count": 101,
   "metadata": {},
   "outputs": [
    {
     "name": "stdout",
     "output_type": "stream",
     "text": [
      "Alternative 2 - 45 SCT | 1000 kg Tungsten | 150 mm\n",
      "------------------------------------------------------------\n",
      "New mass / nominal = 5.80\n",
      "Number of Neutral current events: 6265.47\n",
      "Number of CC electron neutrino events: 3123.75\n",
      "Number of CC muon neutrino events: 17223.51\n",
      "Number of CC tau neutrino events: 70.70\n",
      "\n",
      "\n",
      "Nominal target mass = 996.60 kg\n"
     ]
    }
   ],
   "source": [
    "print(\"Alternative 2 - 45 SCT | 1000 kg Tungsten | 150 mm\")\n",
    "print(f\"{'-' * 60}\")\n",
    "tungsten_mass_g = tungsten_density_gcm3 * nominal_sheet_area_cm2 * 1.53 * 45\n",
    "\n",
    "alt_3_sf = (tungsten_mass_g / nominal_tungsten_mass_g) * lumi_sf\n",
    "\n",
    "print(f\"New mass / nominal = {tungsten_mass_g / nominal_tungsten_mass_g:.2f}\")\n",
    "\n",
    "print(f\"Number of Neutral current events: {n_nc_events*alt_3_sf:.2f}\")\n",
    "print(f\"Number of CC electron neutrino events: {n_cc_el_events*alt_3_sf:.2f}\")\n",
    "print(f\"Number of CC muon neutrino events: {n_cc_mu_events*alt_3_sf:.2f}\")\n",
    "print(f\"Number of CC tau neutrino events: {n_cc_tau_events*alt_3_sf:.2f}\")\n",
    "print(\"\\n\")\n",
    "\n",
    "print(f\"Nominal target mass = {tungsten_mass_g/1000:.2f} kg\")"
   ]
  }
 ],
 "metadata": {
  "kernelspec": {
   "display_name": "FASERSim",
   "language": "python",
   "name": "python3"
  },
  "language_info": {
   "codemirror_mode": {
    "name": "ipython",
    "version": 3
   },
   "file_extension": ".py",
   "mimetype": "text/x-python",
   "name": "python",
   "nbconvert_exporter": "python",
   "pygments_lexer": "ipython3",
   "version": "3.10.15"
  }
 },
 "nbformat": 4,
 "nbformat_minor": 2
}
