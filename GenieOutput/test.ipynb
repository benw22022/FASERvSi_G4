{
 "cells": [
  {
   "cell_type": "code",
   "execution_count": 13,
   "metadata": {},
   "outputs": [],
   "source": [
    "import uproot\n"
   ]
  },
  {
   "cell_type": "code",
   "execution_count": 3,
   "metadata": {},
   "outputs": [],
   "source": [
    "data = uproot.open(\"FASERvSi-680fbTrenchFlux-gfaser/FASERvSi_baseline-lightTrench-680fb.0.gfaser.root:gFaser\")"
   ]
  },
  {
   "cell_type": "code",
   "execution_count": 4,
   "metadata": {},
   "outputs": [],
   "source": [
    "events = data.arrays(data.keys())"
   ]
  },
  {
   "cell_type": "code",
   "execution_count": 11,
   "metadata": {},
   "outputs": [
    {
     "name": "stdout",
     "output_type": "stream",
     "text": [
      "{vx: -0.0275, vy: 0.114, vz: 1.08, n: 33, name: [...], pdgc: [...], ...}\n"
     ]
    }
   ],
   "source": [
    "print(events[16800])"
   ]
  },
  {
   "cell_type": "code",
   "execution_count": 12,
   "metadata": {},
   "outputs": [
    {
     "name": "stdout",
     "output_type": "stream",
     "text": [
      "{vx: -0.0476, vy: 0.0309, vz: 0.701, n: 43, name: [...], pdgc: [...], ...}\n"
     ]
    }
   ],
   "source": [
    "for e in events:\n",
    "    print(e)\n",
    "    break"
   ]
  },
  {
   "cell_type": "code",
   "execution_count": 17,
   "metadata": {},
   "outputs": [],
   "source": [
    "data = uproot.open(\"/home/bewilson/FASERvSi_G4/GenieOutput/FASERvSi-680fbTrenchFlux-gfaser/FASERvSi_baseline-charmTrench-680fb.0.gfaser.root:gFaser\")"
   ]
  },
  {
   "cell_type": "code",
   "execution_count": 18,
   "metadata": {},
   "outputs": [],
   "source": [
    "events = data.arrays(data.keys())"
   ]
  },
  {
   "cell_type": "code",
   "execution_count": 23,
   "metadata": {},
   "outputs": [],
   "source": [
    "nu_pdgcs = set()\n",
    "for event in events:\n",
    "    nu_pdgcs.add(event['pdgc'][0])"
   ]
  },
  {
   "cell_type": "code",
   "execution_count": 24,
   "metadata": {},
   "outputs": [
    {
     "name": "stdout",
     "output_type": "stream",
     "text": [
      "{np.int32(12), np.int32(14), np.int32(-16), np.int32(16), np.int32(-14), np.int32(-12)}\n"
     ]
    }
   ],
   "source": [
    "print(nu_pdgcs)"
   ]
  },
  {
   "cell_type": "code",
   "execution_count": 30,
   "metadata": {},
   "outputs": [
    {
     "name": "stdout",
     "output_type": "stream",
     "text": [
      "['entry', 'entry/wgt', 'entry/vtxx', 'entry/vtxy', 'entry/vtxz', 'entry/vtxt', 'entry/dist', 'entry/px', 'entry/py', 'entry/pz', 'entry/E', 'entry/pdg', 'entry/metakey']\n"
     ]
    }
   ],
   "source": [
    "data = uproot.open(\"/mnt/c/Users/benwi/Downloads/events_charm_Trench.root:flux\")"
   ]
  },
  {
   "cell_type": "code",
   "execution_count": 31,
   "metadata": {},
   "outputs": [],
   "source": [
    "events = data.arrays(data.keys())"
   ]
  },
  {
   "cell_type": "code",
   "execution_count": 43,
   "metadata": {},
   "outputs": [
    {
     "name": "stdout",
     "output_type": "stream",
     "text": [
      "{np.int32(12), np.int32(14), np.int32(16), np.int32(-16), np.int32(-14), np.int32(-12)}\n"
     ]
    }
   ],
   "source": [
    "print(set(events['entry']['pdg']))"
   ]
  }
 ],
 "metadata": {
  "kernelspec": {
   "display_name": "FASERSim",
   "language": "python",
   "name": "python3"
  },
  "language_info": {
   "codemirror_mode": {
    "name": "ipython",
    "version": 3
   },
   "file_extension": ".py",
   "mimetype": "text/x-python",
   "name": "python",
   "nbconvert_exporter": "python",
   "pygments_lexer": "ipython3",
   "version": "3.10.15"
  }
 },
 "nbformat": 4,
 "nbformat_minor": 2
}
